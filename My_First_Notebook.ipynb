{
 "cells": [
  {
   "cell_type": "markdown",
   "id": "71e54052-761b-4ae4-9c83-06b9f6508d22",
   "metadata": {},
   "source": [
    "\"My first markdown cell in jupyter\""
   ]
  },
  {
   "cell_type": "code",
   "execution_count": 1,
   "id": "b9ec50dc-162f-46fc-8197-144869709c0d",
   "metadata": {},
   "outputs": [
    {
     "name": "stdout",
     "output_type": "stream",
     "text": [
      "Hello World!\n"
     ]
    }
   ],
   "source": [
    "print(\"Hello World!\")"
   ]
  },
  {
   "cell_type": "code",
   "execution_count": null,
   "id": "6daee62c-7680-443b-9d39-9782bc2b2b07",
   "metadata": {},
   "outputs": [],
   "source": []
  },
  {
   "cell_type": "code",
   "execution_count": null,
   "id": "c6cdafc5-44af-4408-9a42-286a7b6a3d23",
   "metadata": {},
   "outputs": [],
   "source": []
  }
 ],
 "metadata": {
  "kernelspec": {
   "display_name": "Python 3 (ipykernel)",
   "language": "python",
   "name": "python3"
  },
  "language_info": {
   "codemirror_mode": {
    "name": "ipython",
    "version": 3
   },
   "file_extension": ".py",
   "mimetype": "text/x-python",
   "name": "python",
   "nbconvert_exporter": "python",
   "pygments_lexer": "ipython3",
   "version": "3.12.6"
  }
 },
 "nbformat": 4,
 "nbformat_minor": 5
}
